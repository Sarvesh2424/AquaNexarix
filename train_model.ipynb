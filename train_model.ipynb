{
 "cells": [
  {
   "cell_type": "markdown",
   "id": "347673ad",
   "metadata": {},
   "source": [
    "Importing Libraries"
   ]
  },
  {
   "cell_type": "code",
   "execution_count": null,
   "id": "eceb4df0",
   "metadata": {},
   "outputs": [],
   "source": [
    "import numpy as np\n",
    "import pandas as pd\n",
    "import matplotlib.pyplot as plt\n",
    "import seaborn as sns\n",
    "from sklearn.ensemble import RandomForestClassifier, RandomForestRegressor\n",
    "from sklearn.model_selection import train_test_split, GridSearchCV\n",
    "from sklearn.metrics import accuracy_score, confusion_matrix, classification_report\n",
    "from sklearn.preprocessing import StandardScaler\n",
    "from sklearn.impute import SimpleImputer"
   ]
  },
  {
   "cell_type": "markdown",
   "id": "2e79da0b",
   "metadata": {},
   "source": [
    "Loading Dataset"
   ]
  },
  {
   "cell_type": "code",
   "execution_count": 10,
   "id": "2296061e",
   "metadata": {},
   "outputs": [
    {
     "name": "stdout",
     "output_type": "stream",
     "text": [
      "         ph    Hardness        Solids  ...  Trihalomethanes  Turbidity  Potability\n",
      "0       NaN  204.890455  20791.318981  ...        86.990970   2.963135           0\n",
      "1  3.716080  129.422921  18630.057858  ...        56.329076   4.500656           0\n",
      "2  8.099124  224.236259  19909.541732  ...        66.420093   3.055934           0\n",
      "3  8.316766  214.373394  22018.417441  ...       100.341674   4.628771           0\n",
      "4  9.092223  181.101509  17978.986339  ...        31.997993   4.075075           0\n",
      "\n",
      "[5 rows x 10 columns]\n"
     ]
    }
   ],
   "source": [
    "dataset = \"./water_potability.csv\"\n",
    "df = pd.read_csv(dataset)\n",
    "\n",
    "print(df.head())"
   ]
  },
  {
   "cell_type": "markdown",
   "id": "53da08ea",
   "metadata": {},
   "source": [
    "Data Cleaning and Preprocessing"
   ]
  },
  {
   "cell_type": "code",
   "execution_count": 36,
   "id": "ba603e6e",
   "metadata": {},
   "outputs": [
    {
     "name": "stdout",
     "output_type": "stream",
     "text": [
      "         ph  Hardness    Solids  ...  Organic_carbon  Trihalomethanes  Turbidity\n",
      "0 -0.025474  0.259195 -0.139471  ...       -1.180651         1.305434  -1.286298\n",
      "1 -2.284717 -2.036414 -0.385987  ...        0.270597        -0.639186   0.684218\n",
      "2  0.697319  0.847665 -0.240047  ...        0.781117         0.000800  -1.167365\n",
      "3  0.845393  0.547651  0.000493  ...        1.255134         2.152154   0.848412\n",
      "4  1.372982 -0.464429 -0.460249  ...       -0.824357        -2.182297   0.138786\n",
      "\n",
      "[5 rows x 9 columns]\n"
     ]
    }
   ],
   "source": [
    "X = df.drop('Potability', axis=1)\n",
    "y = df['Potability']\n",
    "\n",
    "imputer = SimpleImputer(strategy=\"median\")\n",
    "numeric = X.select_dtypes(include=[\"float64\", \"int64\"]).columns\n",
    "X[numeric] = imputer.fit_transform(X[numeric])\n",
    "\n",
    "X.drop_duplicates(inplace=True)\n",
    "\n",
    "scaler = StandardScaler()\n",
    "X[numeric] = scaler.fit_transform(X[numeric])\n",
    "print(X.head())"
   ]
  },
  {
   "cell_type": "markdown",
   "id": "2d838590",
   "metadata": {},
   "source": [
    "Train Model"
   ]
  },
  {
   "cell_type": "code",
   "execution_count": 37,
   "id": "ff4ab98c",
   "metadata": {},
   "outputs": [
    {
     "name": "stdout",
     "output_type": "stream",
     "text": [
      "Accuracy:  0.6585365853658537\n",
      "Classification Report:\n",
      "               precision    recall  f1-score   support\n",
      "\n",
      "           0       0.66      0.89      0.76       400\n",
      "           1       0.63      0.30      0.41       256\n",
      "\n",
      "    accuracy                           0.66       656\n",
      "   macro avg       0.65      0.59      0.58       656\n",
      "weighted avg       0.65      0.66      0.62       656\n",
      "\n",
      "Confusion Matrix:\n",
      " [[355  45]\n",
      " [179  77]]\n"
     ]
    }
   ],
   "source": [
    "X_train, X_test, y_train, y_test = train_test_split(\n",
    "    X, y, test_size=0.2, random_state=42, stratify=y\n",
    ")\n",
    "rf = RandomForestClassifier(n_estimators=100, random_state=42)\n",
    "rf.fit(X_train, y_train)\n",
    "\n",
    "y_pred = rf.predict(X_test)\n",
    "\n",
    "print(\"Accuracy: \", accuracy_score(y_test, y_pred))\n",
    "print(\"Classification Report:\\n\", classification_report(y_test, y_pred))\n",
    "print(\"Confusion Matrix:\\n\", confusion_matrix(y_test, y_pred))"
   ]
  }
 ],
 "metadata": {
  "kernelspec": {
   "display_name": "Python 3",
   "language": "python",
   "name": "python3"
  },
  "language_info": {
   "codemirror_mode": {
    "name": "ipython",
    "version": 3
   },
   "file_extension": ".py",
   "mimetype": "text/x-python",
   "name": "python",
   "nbconvert_exporter": "python",
   "pygments_lexer": "ipython3",
   "version": "3.11.4"
  }
 },
 "nbformat": 4,
 "nbformat_minor": 5
}
